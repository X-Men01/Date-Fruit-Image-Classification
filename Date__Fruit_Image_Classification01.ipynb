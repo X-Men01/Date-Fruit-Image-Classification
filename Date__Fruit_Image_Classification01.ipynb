{
 "cells": [
  {
   "cell_type": "code",
   "execution_count": null,
   "metadata": {
    "id": "Ir9qm6a8qZ_X"
   },
   "outputs": [],
   "source": [
    "# !unzip /content/test.zip\n",
    "# !unzip /content/train.zip\n",
    "!pip install torchinfo"
   ]
  },
  {
   "cell_type": "code",
   "execution_count": null,
   "metadata": {
    "id": "uJKhsUoCqAG1"
   },
   "outputs": [],
   "source": [
    "import torch\n",
    "from torch import nn\n",
    "import torchvision\n",
    "from torchvision.datasets import ImageFolder\n",
    "import matplotlib.pyplot as plt\n",
    "from collections import Counter\n",
    "import numpy as np\n",
    "import torchvision.transforms as transforms\n",
    "from torch.utils.data import DataLoader\n",
    "import os\n",
    "from torchinfo import summary\n",
    "\n"
   ]
  },
  {
   "cell_type": "code",
   "execution_count": null,
   "metadata": {
    "id": "WPN32AuTqAG2"
   },
   "outputs": [],
   "source": [
    "device = torch.device(\n",
    "    \"cuda\"\n",
    "    if torch.cuda.is_available()\n",
    "    else \"mps\" if torch.backends.mps.is_available()\n",
    "    else \"cpu\"\n",
    ")\n",
    "\n",
    "\n",
    "# torch.set_default_device(device)\n",
    "device"
   ]
  },
  {
   "cell_type": "markdown",
   "metadata": {
    "id": "rHadPK0xqAG3"
   },
   "source": [
    "# Load train data"
   ]
  },
  {
   "cell_type": "code",
   "execution_count": null,
   "metadata": {
    "id": "sTtKlnYCqAG8"
   },
   "outputs": [],
   "source": [
    "train_dir = \"Data/train\"\n",
    "\n",
    "image_size = (224, 224)\n",
    "\n",
    "\n",
    "train_transform = transforms.Compose(\n",
    "    [\n",
    "        transforms.Resize(image_size),  # Resize to target size\n",
    "        transforms.ToTensor(),  # Convert image to tensor\n",
    "    ]\n",
    ")\n",
    "\n",
    "\n",
    "train_data = ImageFolder(train_dir, transform=train_transform)\n",
    "class_names = train_data.classes\n",
    "class_to_idx = train_data.class_to_idx\n",
    "\n",
    "train_data"
   ]
  },
  {
   "cell_type": "markdown",
   "metadata": {
    "id": "V42jwIilqAG9"
   },
   "source": [
    "# Load Test data"
   ]
  },
  {
   "cell_type": "code",
   "execution_count": null,
   "metadata": {
    "id": "rELULMoDqAG9"
   },
   "outputs": [],
   "source": [
    "test_dir = \"Data/test\"\n",
    "test_transform = transforms.Compose(\n",
    "    [\n",
    "        transforms.Resize(image_size),  # Resize to target size\n",
    "        transforms.ToTensor(),  # Convert image to tensor\n",
    "    ]\n",
    ")\n",
    "\n",
    "test_data = ImageFolder(test_dir, transform=test_transform)\n",
    "\n",
    "test_data"
   ]
  },
  {
   "cell_type": "code",
   "execution_count": null,
   "metadata": {
    "id": "5m7iep0vqAG9"
   },
   "outputs": [],
   "source": [
    "print(f\"Number of training samples: {len(train_data)}\")\n",
    "print(f\"Number of test samples: {len(test_data)}\")\n",
    "print(f\"Class names: {class_names}\")"
   ]
  },
  {
   "cell_type": "code",
   "execution_count": null,
   "metadata": {
    "id": "r34Hm1P9qAG9"
   },
   "outputs": [],
   "source": [
    "fig = plt.figure(figsize=(10, 10))\n",
    "\n",
    "row, col = 3, 3\n",
    "\n",
    "for i in range(9):\n",
    "    ax = fig.add_subplot(row, col, i + 1)\n",
    "    random_idx = torch.randint(low=0, high=len(test_data), size=[1]).item()\n",
    "    img, label = test_data[random_idx]\n",
    "\n",
    "    ax.imshow(\n",
    "        img.permute(1, 2, 0),\n",
    "    )\n",
    "    ax.set_title(class_names[label])\n",
    "    ax.axis(\"off\")\n",
    "\n",
    "plt.tight_layout()\n",
    "plt.show()"
   ]
  },
  {
   "cell_type": "code",
   "execution_count": null,
   "metadata": {
    "id": "K7VOaIWUqAG-"
   },
   "outputs": [],
   "source": [
    "train_count_dir = dict(Counter(train_data.targets))\n",
    "train_count_dir = {class_names[key]: value for key, value in train_count_dir.items()}\n",
    "\n",
    "test_count_dir = dict(Counter(test_data.targets))\n",
    "test_count_dir = {class_names[key]: value for key, value in test_count_dir.items()}\n",
    "\n",
    "colors = plt.cm.tab10(np.linspace(0, 1, len(train_count_dir)))\n",
    "\n",
    "fig, (ax1, ax2) = plt.subplots(1, 2, figsize=(16, 8))\n",
    "\n",
    "# Training dataset plot\n",
    "ax1.bar(list(train_count_dir.keys()), list(train_count_dir.values()), color=colors)\n",
    "ax1.set_xlabel(\"Labels\")\n",
    "ax1.set_ylabel(\"Counts\")\n",
    "ax1.set_title(\"Training Dataset Class Distribution\")\n",
    "ax1.tick_params(axis=\"x\", rotation=45)\n",
    "\n",
    "# Test dataset plot\n",
    "ax2.bar(list(test_count_dir.keys()), list(test_count_dir.values()), color=colors)\n",
    "ax2.set_xlabel(\"Labels\")\n",
    "ax2.set_ylabel(\"Counts\")\n",
    "ax2.set_title(\"Test Dataset Class Distribution\")\n",
    "ax2.tick_params(axis=\"x\", rotation=45)\n",
    "\n",
    "plt.tight_layout()\n",
    "plt.show()"
   ]
  },
  {
   "cell_type": "code",
   "execution_count": null,
   "metadata": {
    "id": "rSQxjvAhqAG-"
   },
   "outputs": [],
   "source": [
    "NUM_WORKERS = os.cpu_count()\n",
    "BATCH_SIZE = 64\n",
    "\n",
    "generator = torch.Generator(device=device) if device.type == \"mps\" else None\n",
    "\n",
    "\n",
    "train_loader = DataLoader(train_data, batch_size=BATCH_SIZE, shuffle=True, num_workers=NUM_WORKERS, generator=generator)\n",
    "test_loader = DataLoader(test_data, batch_size=BATCH_SIZE, shuffle=False, num_workers=NUM_WORKERS, generator=generator)"
   ]
  },
  {
   "cell_type": "code",
   "execution_count": null,
   "metadata": {
    "id": "Yl07cRJFqAG-"
   },
   "outputs": [],
   "source": [
    "class Date_Custom_CNN(nn.Module):\n",
    "\n",
    "    def __init__(self, input_shape: int, hidden_units: int, output_shape: int) -> None:\n",
    "        super().__init__()\n",
    "        self.conv_block_1 = nn.Sequential(\n",
    "            nn.Conv2d(\n",
    "                in_channels=input_shape,\n",
    "                out_channels=hidden_units,\n",
    "                kernel_size=3,  # how big is the square that's going over the image?\n",
    "                stride=1,  # default\n",
    "                padding=0,\n",
    "            ),  # options = \"valid\" (no padding) or \"same\" (output has same shape as input) or int for specific number\n",
    "            nn.ReLU(),\n",
    "            nn.Conv2d(\n",
    "                in_channels=hidden_units,\n",
    "                out_channels=hidden_units,\n",
    "                kernel_size=3,\n",
    "                stride=1,\n",
    "                padding=0,\n",
    "            ),\n",
    "            nn.ReLU(),\n",
    "            nn.MaxPool2d(\n",
    "                kernel_size=2, stride=2\n",
    "            ),  # default stride value is same as kernel_size\n",
    "        )\n",
    "        self.conv_block_2 = nn.Sequential(\n",
    "            nn.Conv2d(hidden_units, hidden_units, kernel_size=3, padding=0),\n",
    "            nn.ReLU(),\n",
    "            nn.Conv2d(hidden_units, hidden_units, kernel_size=3, padding=0),\n",
    "            nn.ReLU(),\n",
    "            nn.MaxPool2d(2),\n",
    "        )\n",
    "        self.classifier = nn.Sequential(\n",
    "            nn.Flatten(),\n",
    "            # Where did this in_features shape come from?\n",
    "            # It's because each layer of our network compresses and changes the shape of our inputs data.\n",
    "            nn.Linear(in_features=hidden_units * 53 * 53, out_features=output_shape),\n",
    "        )\n",
    "\n",
    "    def forward(self, x: torch.Tensor):\n",
    "\n",
    "        x = self.conv_block_1(x)\n",
    "\n",
    "        x = self.conv_block_2(x)\n",
    "\n",
    "        x = self.classifier(x)\n",
    "\n",
    "        return x"
   ]
  },
  {
   "cell_type": "code",
   "execution_count": null,
   "metadata": {
    "id": "HBEIoQyfqAG_"
   },
   "outputs": [],
   "source": [
    "model = Date_Custom_CNN(input_shape=3, hidden_units=10, output_shape=len(class_names)).to(device)\n",
    "# model(torch.randn(1, 3, 224, 224))\n",
    "summary(model, input_size=(1, 3, 224, 224))"
   ]
  },
  {
   "cell_type": "code",
   "execution_count": null,
   "metadata": {
    "id": "DIOsEdk2qAG_"
   },
   "outputs": [],
   "source": [
    "import torch\n",
    "\n",
    "# import mlflow\n",
    "from tqdm.auto import tqdm\n",
    "from torch import nn\n",
    "\n",
    "\n",
    "def train_step(\n",
    "    model: torch.nn.Module,\n",
    "    dataloader: torch.utils.data.DataLoader,\n",
    "    loss_fn: torch.nn.Module,\n",
    "    optimizer: torch.optim.Optimizer,\n",
    "    device: torch.device,\n",
    "):\n",
    "\n",
    "    model.train()\n",
    "\n",
    "    train_loss, train_acc = 0, 0\n",
    "\n",
    "    for X, y in dataloader:\n",
    "        X, y = X.to(device), y.to(device)\n",
    "\n",
    "        y_pred = model(X)\n",
    "\n",
    "        loss = loss_fn(y_pred, y)\n",
    "        train_loss += loss.item()\n",
    "\n",
    "        optimizer.zero_grad()\n",
    "\n",
    "        loss.backward()\n",
    "\n",
    "        optimizer.step()\n",
    "\n",
    "        y_pred_class = torch.argmax(torch.softmax(y_pred, dim=1), dim=1)\n",
    "        train_acc += (y_pred_class == y).sum().item() / len(y_pred)\n",
    "\n",
    "    train_loss = train_loss / len(dataloader)\n",
    "    train_acc = train_acc / len(dataloader)\n",
    "\n",
    "    return train_loss, train_acc\n",
    "\n",
    "\n",
    "def test_step(\n",
    "    model: torch.nn.Module,\n",
    "    dataloader: torch.utils.data.DataLoader,\n",
    "    loss_fn: torch.nn.Module,\n",
    "    device: torch.device,\n",
    "):\n",
    "    model.eval()\n",
    "\n",
    "    test_loss, test_acc = 0, 0\n",
    "\n",
    "    with torch.inference_mode():\n",
    "        for X, y in dataloader:\n",
    "            X, y = X.to(device), y.to(device)\n",
    "\n",
    "            test_preds = model(X)\n",
    "\n",
    "            loss = loss_fn(test_preds, y)\n",
    "            test_loss += loss.item()\n",
    "\n",
    "            test_pred_labels = test_preds.argmax(dim=1)\n",
    "            test_acc += (test_pred_labels == y).sum().item() / len(test_pred_labels)\n",
    "\n",
    "    test_loss = test_loss / len(dataloader)\n",
    "    test_acc = test_acc / len(dataloader)\n",
    "    return test_loss, test_acc\n",
    "\n",
    "\n",
    "def training(\n",
    "    model: torch.nn.Module,\n",
    "    train_dataloader,\n",
    "    test_dataloader,\n",
    "    optimizer,\n",
    "    device: torch.device,\n",
    "    loss_fn: torch.nn.Module = nn.CrossEntropyLoss(),\n",
    "    epochs: int = 5,\n",
    "    checkpoint_path: str = 'best_model.pth',\n",
    "\n",
    "):\n",
    "\n",
    "    results = {\"train_loss\": [], \"train_acc\": [], \"test_loss\": [], \"test_acc\": []}\n",
    "\n",
    "    best_acc = 0.0\n",
    "\n",
    "\n",
    "\n",
    "    for epoch in tqdm(range(epochs)):\n",
    "        train_loss, train_acc = train_step(\n",
    "            model=model,\n",
    "            dataloader=train_dataloader,\n",
    "            loss_fn=loss_fn,\n",
    "            optimizer=optimizer,\n",
    "            device=device,)\n",
    "        test_loss, test_acc = test_step(\n",
    "            model=model, dataloader=test_dataloader, loss_fn=loss_fn, device=device\n",
    "        )\n",
    "\n",
    "        print(\n",
    "            f\"Epoch: {epoch} | Train loss: {train_loss:.4f} | Train acc: {train_acc:.4f} | Test loss: {test_loss:.4f} | Test acc: {test_acc:.4f}\"\n",
    "        )\n",
    "\n",
    "        results[\"train_loss\"].append(train_loss)\n",
    "        results[\"train_acc\"].append(train_acc)\n",
    "        results[\"test_loss\"].append(test_loss)\n",
    "        results[\"test_acc\"].append(test_acc)\n",
    "\n",
    "        if test_acc > best_acc:\n",
    "            best_acc = test_acc\n",
    "            torch.save(model.state_dict(), checkpoint_path)\n",
    "\n",
    "\n",
    "    model.load_state_dict(torch.load(checkpoint_path))\n",
    "\n",
    "    return results"
   ]
  },
  {
   "cell_type": "code",
   "execution_count": 14,
   "metadata": {
    "colab": {
     "base_uri": "https://localhost:8080/",
     "height": 1000,
     "referenced_widgets": [
      "d3b0180a4dc141d3be7715fe280c929a",
      "ac4715cee21e440a925bf782f51ed55b",
      "be8c1187d9bd49cd8170227091a4947f",
      "32e509b24a7a4872be0d6fba2415791e",
      "7431bff48874480b951c1162c73e25a1",
      "58565789d0dd4dc5b0282133a04eee71",
      "10bf12aa5ea64696b5f4bed55493d2b7",
      "3b3ed41444ac4570a391628d154341f6",
      "b26d95c4085349568b06dc2dac8b6069",
      "98cf70ef07ac4d1ebc6524bb4b9bc645",
      "3c326d83cdcd439996c51d321722d82b"
     ]
    },
    "id": "yCi2m1gPqAG_",
    "outputId": "842c2584-eb55-4754-8962-608f328c91f3"
   },
   "outputs": [
    {
     "data": {
      "application/vnd.jupyter.widget-view+json": {
       "model_id": "d3b0180a4dc141d3be7715fe280c929a",
       "version_major": 2,
       "version_minor": 0
      },
      "text/plain": [
       "  0%|          | 0/100 [00:00<?, ?it/s]"
      ]
     },
     "metadata": {},
     "output_type": "display_data"
    },
    {
     "name": "stdout",
     "output_type": "stream",
     "text": [
      "Epoch: 0 | Train loss: 2.2334 | Train acc: 0.1456 | Test loss: 2.1887 | Test acc: 0.1573\n",
      "Epoch: 1 | Train loss: 2.1634 | Train acc: 0.1760 | Test loss: 2.1944 | Test acc: 0.1573\n",
      "Epoch: 2 | Train loss: 2.1235 | Train acc: 0.1793 | Test loss: 2.0838 | Test acc: 0.2644\n",
      "Epoch: 3 | Train loss: 1.9154 | Train acc: 0.3092 | Test loss: 1.6907 | Test acc: 0.3678\n",
      "Epoch: 4 | Train loss: 1.5619 | Train acc: 0.4137 | Test loss: 1.8133 | Test acc: 0.3104\n",
      "Epoch: 5 | Train loss: 1.4038 | Train acc: 0.5033 | Test loss: 1.2023 | Test acc: 0.5921\n",
      "Epoch: 6 | Train loss: 1.1520 | Train acc: 0.5781 | Test loss: 1.2731 | Test acc: 0.5156\n",
      "Epoch: 7 | Train loss: 0.9828 | Train acc: 0.6423 | Test loss: 0.9661 | Test acc: 0.6610\n",
      "Epoch: 8 | Train loss: 0.8391 | Train acc: 0.7007 | Test loss: 0.9405 | Test acc: 0.6479\n",
      "Epoch: 9 | Train loss: 0.6732 | Train acc: 0.7574 | Test loss: 0.9687 | Test acc: 0.6499\n",
      "Epoch: 10 | Train loss: 0.5758 | Train acc: 0.7977 | Test loss: 0.7358 | Test acc: 0.7372\n",
      "Epoch: 11 | Train loss: 0.5326 | Train acc: 0.8380 | Test loss: 0.8603 | Test acc: 0.7159\n",
      "Epoch: 12 | Train loss: 0.4679 | Train acc: 0.8454 | Test loss: 0.8576 | Test acc: 0.7028\n",
      "Epoch: 13 | Train loss: 0.4836 | Train acc: 0.8413 | Test loss: 0.8132 | Test acc: 0.7131\n",
      "Epoch: 14 | Train loss: 0.4063 | Train acc: 0.8586 | Test loss: 0.6929 | Test acc: 0.7598\n",
      "Epoch: 15 | Train loss: 0.3184 | Train acc: 0.9079 | Test loss: 0.5427 | Test acc: 0.8006\n",
      "Epoch: 16 | Train loss: 0.2884 | Train acc: 0.9079 | Test loss: 0.6053 | Test acc: 0.7980\n",
      "Epoch: 17 | Train loss: 0.2932 | Train acc: 0.9112 | Test loss: 0.5178 | Test acc: 0.8303\n",
      "Epoch: 18 | Train loss: 0.2756 | Train acc: 0.9013 | Test loss: 0.6815 | Test acc: 0.7622\n",
      "Epoch: 19 | Train loss: 0.2436 | Train acc: 0.9268 | Test loss: 0.6273 | Test acc: 0.7737\n",
      "Epoch: 20 | Train loss: 0.2418 | Train acc: 0.9202 | Test loss: 0.5522 | Test acc: 0.8254\n",
      "Epoch: 21 | Train loss: 0.2071 | Train acc: 0.9441 | Test loss: 0.5221 | Test acc: 0.8325\n",
      "Epoch: 22 | Train loss: 0.1709 | Train acc: 0.9498 | Test loss: 0.5117 | Test acc: 0.8426\n",
      "Epoch: 23 | Train loss: 0.1715 | Train acc: 0.9391 | Test loss: 0.5432 | Test acc: 0.8382\n",
      "Epoch: 24 | Train loss: 0.1328 | Train acc: 0.9622 | Test loss: 0.4851 | Test acc: 0.8527\n",
      "Epoch: 25 | Train loss: 0.1002 | Train acc: 0.9712 | Test loss: 0.5011 | Test acc: 0.8453\n",
      "Epoch: 26 | Train loss: 0.1028 | Train acc: 0.9581 | Test loss: 0.5245 | Test acc: 0.8586\n",
      "Epoch: 27 | Train loss: 0.1281 | Train acc: 0.9646 | Test loss: 0.5045 | Test acc: 0.8495\n",
      "Epoch: 28 | Train loss: 0.1000 | Train acc: 0.9712 | Test loss: 0.6124 | Test acc: 0.8190\n",
      "Epoch: 29 | Train loss: 0.1823 | Train acc: 0.9424 | Test loss: 0.5542 | Test acc: 0.8412\n",
      "Epoch: 30 | Train loss: 0.0708 | Train acc: 0.9827 | Test loss: 0.5248 | Test acc: 0.8579\n",
      "Epoch: 31 | Train loss: 0.0616 | Train acc: 0.9868 | Test loss: 0.8755 | Test acc: 0.7861\n",
      "Epoch: 32 | Train loss: 0.1295 | Train acc: 0.9630 | Test loss: 0.9038 | Test acc: 0.7765\n",
      "Epoch: 33 | Train loss: 0.1175 | Train acc: 0.9597 | Test loss: 0.5420 | Test acc: 0.8433\n",
      "Epoch: 34 | Train loss: 0.1342 | Train acc: 0.9474 | Test loss: 0.6481 | Test acc: 0.8275\n",
      "Epoch: 35 | Train loss: 0.1964 | Train acc: 0.9416 | Test loss: 0.7858 | Test acc: 0.7886\n",
      "Epoch: 36 | Train loss: 0.0969 | Train acc: 0.9688 | Test loss: 0.5773 | Test acc: 0.8300\n",
      "Epoch: 37 | Train loss: 0.0450 | Train acc: 0.9918 | Test loss: 0.6197 | Test acc: 0.8247\n",
      "Epoch: 38 | Train loss: 0.0312 | Train acc: 0.9893 | Test loss: 0.5548 | Test acc: 0.8495\n",
      "Epoch: 39 | Train loss: 0.0165 | Train acc: 0.9992 | Test loss: 0.5569 | Test acc: 0.8464\n",
      "Epoch: 40 | Train loss: 0.0124 | Train acc: 0.9992 | Test loss: 0.5649 | Test acc: 0.8573\n",
      "Epoch: 41 | Train loss: 0.0112 | Train acc: 0.9992 | Test loss: 0.6094 | Test acc: 0.8325\n",
      "Epoch: 42 | Train loss: 0.0084 | Train acc: 1.0000 | Test loss: 0.5565 | Test acc: 0.8570\n",
      "Epoch: 43 | Train loss: 0.0057 | Train acc: 1.0000 | Test loss: 0.5551 | Test acc: 0.8613\n",
      "Epoch: 44 | Train loss: 0.0048 | Train acc: 1.0000 | Test loss: 0.5932 | Test acc: 0.8476\n",
      "Epoch: 45 | Train loss: 0.0045 | Train acc: 1.0000 | Test loss: 0.5801 | Test acc: 0.8581\n",
      "Epoch: 46 | Train loss: 0.0036 | Train acc: 1.0000 | Test loss: 0.5812 | Test acc: 0.8597\n",
      "Epoch: 47 | Train loss: 0.0032 | Train acc: 1.0000 | Test loss: 0.5777 | Test acc: 0.8597\n",
      "Epoch: 48 | Train loss: 0.0039 | Train acc: 1.0000 | Test loss: 0.6044 | Test acc: 0.8600\n",
      "Epoch: 49 | Train loss: 0.0042 | Train acc: 0.9992 | Test loss: 0.6144 | Test acc: 0.8531\n",
      "Epoch: 50 | Train loss: 0.0028 | Train acc: 1.0000 | Test loss: 0.6058 | Test acc: 0.8538\n",
      "Epoch: 51 | Train loss: 0.0023 | Train acc: 1.0000 | Test loss: 0.6048 | Test acc: 0.8597\n",
      "Epoch: 52 | Train loss: 0.0020 | Train acc: 1.0000 | Test loss: 0.6203 | Test acc: 0.8577\n",
      "Epoch: 53 | Train loss: 0.0020 | Train acc: 1.0000 | Test loss: 0.6178 | Test acc: 0.8534\n",
      "Epoch: 54 | Train loss: 0.0018 | Train acc: 1.0000 | Test loss: 0.6252 | Test acc: 0.8534\n",
      "Epoch: 55 | Train loss: 0.0017 | Train acc: 1.0000 | Test loss: 0.6224 | Test acc: 0.8577\n",
      "Epoch: 56 | Train loss: 0.0021 | Train acc: 1.0000 | Test loss: 0.6452 | Test acc: 0.8534\n",
      "Epoch: 57 | Train loss: 0.0019 | Train acc: 1.0000 | Test loss: 0.6386 | Test acc: 0.8550\n",
      "Epoch: 58 | Train loss: 0.0014 | Train acc: 1.0000 | Test loss: 0.6369 | Test acc: 0.8519\n",
      "Epoch: 59 | Train loss: 0.0013 | Train acc: 1.0000 | Test loss: 0.6413 | Test acc: 0.8577\n",
      "Epoch: 60 | Train loss: 0.0012 | Train acc: 1.0000 | Test loss: 0.6441 | Test acc: 0.8577\n",
      "Epoch: 61 | Train loss: 0.0012 | Train acc: 1.0000 | Test loss: 0.6620 | Test acc: 0.8515\n",
      "Epoch: 62 | Train loss: 0.0012 | Train acc: 1.0000 | Test loss: 0.6506 | Test acc: 0.8554\n",
      "Epoch: 63 | Train loss: 0.0011 | Train acc: 1.0000 | Test loss: 0.6546 | Test acc: 0.8534\n",
      "Epoch: 64 | Train loss: 0.0011 | Train acc: 1.0000 | Test loss: 0.6583 | Test acc: 0.8577\n",
      "Epoch: 65 | Train loss: 0.0010 | Train acc: 1.0000 | Test loss: 0.6627 | Test acc: 0.8558\n",
      "Epoch: 66 | Train loss: 0.0010 | Train acc: 1.0000 | Test loss: 0.6643 | Test acc: 0.8519\n",
      "Epoch: 67 | Train loss: 0.0010 | Train acc: 1.0000 | Test loss: 0.6717 | Test acc: 0.8554\n",
      "Epoch: 68 | Train loss: 0.0009 | Train acc: 1.0000 | Test loss: 0.6738 | Test acc: 0.8538\n",
      "Epoch: 69 | Train loss: 0.0009 | Train acc: 1.0000 | Test loss: 0.6826 | Test acc: 0.8538\n",
      "Epoch: 70 | Train loss: 0.0008 | Train acc: 1.0000 | Test loss: 0.6806 | Test acc: 0.8519\n",
      "Epoch: 71 | Train loss: 0.0008 | Train acc: 1.0000 | Test loss: 0.6829 | Test acc: 0.8558\n",
      "Epoch: 72 | Train loss: 0.0007 | Train acc: 1.0000 | Test loss: 0.6838 | Test acc: 0.8515\n",
      "Epoch: 73 | Train loss: 0.0007 | Train acc: 1.0000 | Test loss: 0.6799 | Test acc: 0.8597\n",
      "Epoch: 74 | Train loss: 0.0009 | Train acc: 1.0000 | Test loss: 0.6898 | Test acc: 0.8515\n",
      "Epoch: 75 | Train loss: 0.0010 | Train acc: 1.0000 | Test loss: 0.7309 | Test acc: 0.8519\n",
      "Epoch: 76 | Train loss: 0.0008 | Train acc: 1.0000 | Test loss: 0.6990 | Test acc: 0.8577\n",
      "Epoch: 77 | Train loss: 0.0006 | Train acc: 1.0000 | Test loss: 0.6933 | Test acc: 0.8538\n",
      "Epoch: 78 | Train loss: 0.0006 | Train acc: 1.0000 | Test loss: 0.6921 | Test acc: 0.8538\n",
      "Epoch: 79 | Train loss: 0.0006 | Train acc: 1.0000 | Test loss: 0.6855 | Test acc: 0.8620\n",
      "Epoch: 80 | Train loss: 0.0005 | Train acc: 1.0000 | Test loss: 0.6929 | Test acc: 0.8538\n",
      "Epoch: 81 | Train loss: 0.0006 | Train acc: 1.0000 | Test loss: 0.6973 | Test acc: 0.8515\n",
      "Epoch: 82 | Train loss: 0.0005 | Train acc: 1.0000 | Test loss: 0.7019 | Test acc: 0.8554\n",
      "Epoch: 83 | Train loss: 0.0005 | Train acc: 1.0000 | Test loss: 0.7046 | Test acc: 0.8515\n",
      "Epoch: 84 | Train loss: 0.0005 | Train acc: 1.0000 | Test loss: 0.7024 | Test acc: 0.8577\n",
      "Epoch: 85 | Train loss: 0.0005 | Train acc: 1.0000 | Test loss: 0.7071 | Test acc: 0.8573\n",
      "Epoch: 86 | Train loss: 0.0004 | Train acc: 1.0000 | Test loss: 0.7066 | Test acc: 0.8534\n",
      "Epoch: 87 | Train loss: 0.0004 | Train acc: 1.0000 | Test loss: 0.7126 | Test acc: 0.8577\n",
      "Epoch: 88 | Train loss: 0.0004 | Train acc: 1.0000 | Test loss: 0.7107 | Test acc: 0.8515\n",
      "Epoch: 89 | Train loss: 0.0005 | Train acc: 1.0000 | Test loss: 0.7086 | Test acc: 0.8558\n",
      "Epoch: 90 | Train loss: 0.0004 | Train acc: 1.0000 | Test loss: 0.7190 | Test acc: 0.8534\n",
      "Epoch: 91 | Train loss: 0.0004 | Train acc: 1.0000 | Test loss: 0.7254 | Test acc: 0.8558\n",
      "Epoch: 92 | Train loss: 0.0004 | Train acc: 1.0000 | Test loss: 0.7209 | Test acc: 0.8534\n",
      "Epoch: 93 | Train loss: 0.0004 | Train acc: 1.0000 | Test loss: 0.7264 | Test acc: 0.8577\n",
      "Epoch: 94 | Train loss: 0.0004 | Train acc: 1.0000 | Test loss: 0.7346 | Test acc: 0.8515\n",
      "Epoch: 95 | Train loss: 0.0003 | Train acc: 1.0000 | Test loss: 0.7316 | Test acc: 0.8597\n",
      "Epoch: 96 | Train loss: 0.0003 | Train acc: 1.0000 | Test loss: 0.7323 | Test acc: 0.8558\n",
      "Epoch: 97 | Train loss: 0.0003 | Train acc: 1.0000 | Test loss: 0.7316 | Test acc: 0.8573\n",
      "Epoch: 98 | Train loss: 0.0003 | Train acc: 1.0000 | Test loss: 0.7323 | Test acc: 0.8554\n",
      "Epoch: 99 | Train loss: 0.0003 | Train acc: 1.0000 | Test loss: 0.7363 | Test acc: 0.8554\n"
     ]
    },
    {
     "name": "stderr",
     "output_type": "stream",
     "text": [
      "<ipython-input-13-84b16d727618>:113: FutureWarning: You are using `torch.load` with `weights_only=False` (the current default value), which uses the default pickle module implicitly. It is possible to construct malicious pickle data which will execute arbitrary code during unpickling (See https://github.com/pytorch/pytorch/blob/main/SECURITY.md#untrusted-models for more details). In a future release, the default value for `weights_only` will be flipped to `True`. This limits the functions that could be executed during unpickling. Arbitrary objects will no longer be allowed to be loaded via this mode unless they are explicitly allowlisted by the user via `torch.serialization.add_safe_globals`. We recommend you start setting `weights_only=True` for any use case where you don't have full control of the loaded file. Please open an issue on GitHub for any issues related to this experimental feature.\n",
      "  model.load_state_dict(torch.load(checkpoint_path))\n"
     ]
    }
   ],
   "source": [
    "\n",
    "EPOCHS = 100\n",
    "\n",
    "LR = 1e-3\n",
    "loss_fn = nn.CrossEntropyLoss()\n",
    "optimizer = torch.optim.Adam(params=model.parameters(), lr=LR)\n",
    "\n",
    "# Ensure the model is on the correct device\n",
    "model.to(device)\n",
    "\n",
    "results = training(\n",
    "    model=model,\n",
    "    train_dataloader=train_loader,\n",
    "    test_dataloader=test_loader,\n",
    "    optimizer=optimizer,\n",
    "    loss_fn=loss_fn,\n",
    "    epochs=EPOCHS,\n",
    "    device=device,\n",
    ")\n"
   ]
  },
  {
   "cell_type": "code",
   "execution_count": 15,
   "metadata": {
    "colab": {
     "base_uri": "https://localhost:8080/",
     "height": 957
    },
    "id": "DIung9ntqAG_",
    "outputId": "e0578a28-fd96-4df9-9c0d-44b1d176e2aa"
   },
   "outputs": [
    {
     "data": {
      "image/png": "[encoded data removed]",
      "text/plain": [
       "<Figure size 1000x500 with 1 Axes>"
      ]
     },
     "metadata": {},
     "output_type": "display_data"
    },
    {
     "data": {
      "image/png": "[encoded data removed]",
      "text/plain": [
       "<Figure size 1000x500 with 1 Axes>"
      ]
     },
     "metadata": {},
     "output_type": "display_data"
    }
   ],
   "source": [
    "\n",
    "# Plot for accuracy\n",
    "plt.figure(figsize=(10, 5))\n",
    "plt.plot(results[\"train_acc\"], label='Train Accuracy')\n",
    "plt.plot(results[\"test_acc\"], label='Test Accuracy')\n",
    "plt.xlabel('Epochs')\n",
    "plt.ylabel('Accuracy')\n",
    "plt.title('Training and Testing Accuracy over Epochs')\n",
    "plt.legend()\n",
    "plt.show()\n",
    "\n",
    "# Plot for loss\n",
    "plt.figure(figsize=(10, 5))\n",
    "plt.plot(results[\"train_loss\"], label='Train Loss')\n",
    "plt.plot(results[\"test_loss\"], label='Test Loss')\n",
    "plt.xlabel('Epochs')\n",
    "plt.ylabel('Loss')\n",
    "plt.title('Training and Testing Loss over Epochs')\n",
    "plt.legend()\n",
    "plt.show()"
   ]
  },
  {
   "cell_type": "code",
   "execution_count": 16,
   "metadata": {
    "colab": {
     "base_uri": "https://localhost:8080/",
     "height": 513
    },
    "id": "bgc1db-sqAHA",
    "outputId": "7cb4946b-7c29-4ba6-df72-78d596b116ba"
   },
   "outputs": [
    {
     "data": {
      "image/png": "[encoded data removed]",
      "text/plain": [
       "<Figure size 640x480 with 2 Axes>"
      ]
     },
     "metadata": {},
     "output_type": "display_data"
    }
   ],
   "source": [
    "from sklearn.metrics import confusion_matrix, ConfusionMatrixDisplay\n",
    "model.eval()\n",
    "\n",
    "# Initialize lists to store true labels and predictions\n",
    "all_preds = []\n",
    "all_labels = []\n",
    "\n",
    "# Disable gradient calculation for efficiency\n",
    "with torch.inference_mode():\n",
    "    for images, labels in test_loader:\n",
    "        images = images.to(device)\n",
    "        labels = labels.to(device)\n",
    "\n",
    "        # Get model predictions\n",
    "        outputs = model(images)\n",
    "        _, preds = torch.max(outputs, 1)\n",
    "\n",
    "        # Append predictions and labels to the lists\n",
    "        all_preds.extend(preds.cpu().numpy())\n",
    "        all_labels.extend(labels.cpu().numpy())\n",
    "\n",
    "# Compute the confusion matrix\n",
    "cm = confusion_matrix(all_labels, all_preds)\n",
    "disp = ConfusionMatrixDisplay(confusion_matrix=cm, display_labels=class_names)\n",
    "disp.plot(cmap='Blues', xticks_rotation=45)\n",
    "plt.title('Confusion Matrix')\n",
    "plt.show()\n"
   ]
  },
  {
   "cell_type": "code",
   "execution_count": null,
   "metadata": {
    "colab": {
     "base_uri": "https://localhost:8080/"
    },
    "id": "wLLacgS7qAHA",
    "outputId": "17dc4109-d905-44e6-c1da-ab51c9fdd4aa"
   },
   "outputs": [
    {
     "name": "stdout",
     "output_type": "stream",
     "text": [
      "              precision    recall  f1-score   support\n",
      "\n",
      "        Ajwa       0.98      0.98      0.98        53\n",
      "      Galaxy       0.94      0.81      0.87        57\n",
      "     Mejdool       0.88      0.85      0.86        41\n",
      "     Meneifi       0.80      0.86      0.83        70\n",
      "   NabtatAli       0.82      0.91      0.86        54\n",
      "       Rutab       0.82      0.75      0.79        44\n",
      "     Shaishe       0.89      0.90      0.90        52\n",
      "      Sokari       0.90      0.86      0.88        80\n",
      "      Sugaey       0.76      0.82      0.79        51\n",
      "\n",
      "    accuracy                           0.86       502\n",
      "   macro avg       0.86      0.86      0.86       502\n",
      "weighted avg       0.87      0.86      0.86       502\n",
      "\n"
     ]
    }
   ],
   "source": [
    "from sklearn.metrics import classification_report\n",
    "print(classification_report(all_labels, all_preds, target_names=class_names)) \n"
   ]
  },
  {
   "cell_type": "code",
   "execution_count": 17,
   "metadata": {
    "id": "ewf4kE-lqAHA"
   },
   "outputs": [],
   "source": []
  }
 ],
 "metadata": {
  "accelerator": "GPU",
  "colab": {
   "gpuType": "T4",
   "provenance": []
  },
  "kernelspec": {
   "display_name": "base",
   "language": "python",
   "name": "python3"
  },
  "language_info": {
   "codemirror_mode": {
    "name": "ipython",
    "version": 3
   },
   "file_extension": ".py",
   "mimetype": "text/x-python",
   "name": "python",
   "nbconvert_exporter": "python",
   "pygments_lexer": "ipython3",
   "version": "3.12.2"
  },
  "widgets": {
   "application/vnd.jupyter.widget-state+json": {
    "10bf12aa5ea64696b5f4bed55493d2b7": {
     "model_module": "@jupyter-widgets/controls",
     "model_module_version": "1.5.0",
     "model_name": "DescriptionStyleModel",
     "state": {
      "_model_module": "@jupyter-widgets/controls",
      "_model_module_version": "1.5.0",
      "_model_name": "DescriptionStyleModel",
      "_view_count": null,
      "_view_module": "@jupyter-widgets/base",
      "_view_module_version": "1.2.0",
      "_view_name": "StyleView",
      "description_width": ""
     }
    },
    "32e509b24a7a4872be0d6fba2415791e": {
     "model_module": "@jupyter-widgets/controls",
     "model_module_version": "1.5.0",
     "model_name": "HTMLModel",
     "state": {
      "_dom_classes": [],
      "_model_module": "@jupyter-widgets/controls",
      "_model_module_version": "1.5.0",
      "_model_name": "HTMLModel",
      "_view_count": null,
      "_view_module": "@jupyter-widgets/controls",
      "_view_module_version": "1.5.0",
      "_view_name": "HTMLView",
      "description": "",
      "description_tooltip": null,
      "layout": "IPY_MODEL_98cf70ef07ac4d1ebc6524bb4b9bc645",
      "placeholder": "​",
      "style": "IPY_MODEL_3c326d83cdcd439996c51d321722d82b",
      "value": " 100/100 [11:01&lt;00:00,  6.68s/it]"
     }
    },
    "3b3ed41444ac4570a391628d154341f6": {
     "model_module": "@jupyter-widgets/base",
     "model_module_version": "1.2.0",
     "model_name": "LayoutModel",
     "state": {
      "_model_module": "@jupyter-widgets/base",
      "_model_module_version": "1.2.0",
      "_model_name": "LayoutModel",
      "_view_count": null,
      "_view_module": "@jupyter-widgets/base",
      "_view_module_version": "1.2.0",
      "_view_name": "LayoutView",
      "align_content": null,
      "align_items": null,
      "align_self": null,
      "border": null,
      "bottom": null,
      "display": null,
      "flex": null,
      "flex_flow": null,
      "grid_area": null,
      "grid_auto_columns": null,
      "grid_auto_flow": null,
      "grid_auto_rows": null,
      "grid_column": null,
      "grid_gap": null,
      "grid_row": null,
      "grid_template_areas": null,
      "grid_template_columns": null,
      "grid_template_rows": null,
      "height": null,
      "justify_content": null,
      "justify_items": null,
      "left": null,
      "margin": null,
      "max_height": null,
      "max_width": null,
      "min_height": null,
      "min_width": null,
      "object_fit": null,
      "object_position": null,
      "order": null,
      "overflow": null,
      "overflow_x": null,
      "overflow_y": null,
      "padding": null,
      "right": null,
      "top": null,
      "visibility": null,
      "width": null
     }
    },
    "3c326d83cdcd439996c51d321722d82b": {
     "model_module": "@jupyter-widgets/controls",
     "model_module_version": "1.5.0",
     "model_name": "DescriptionStyleModel",
     "state": {
      "_model_module": "@jupyter-widgets/controls",
      "_model_module_version": "1.5.0",
      "_model_name": "DescriptionStyleModel",
      "_view_count": null,
      "_view_module": "@jupyter-widgets/base",
      "_view_module_version": "1.2.0",
      "_view_name": "StyleView",
      "description_width": ""
     }
    },
    "58565789d0dd4dc5b0282133a04eee71": {
     "model_module": "@jupyter-widgets/base",
     "model_module_version": "1.2.0",
     "model_name": "LayoutModel",
     "state": {
      "_model_module": "@jupyter-widgets/base",
      "_model_module_version": "1.2.0",
      "_model_name": "LayoutModel",
      "_view_count": null,
      "_view_module": "@jupyter-widgets/base",
      "_view_module_version": "1.2.0",
      "_view_name": "LayoutView",
      "align_content": null,
      "align_items": null,
      "align_self": null,
      "border": null,
      "bottom": null,
      "display": null,
      "flex": null,
      "flex_flow": null,
      "grid_area": null,
      "grid_auto_columns": null,
      "grid_auto_flow": null,
      "grid_auto_rows": null,
      "grid_column": null,
      "grid_gap": null,
      "grid_row": null,
      "grid_template_areas": null,
      "grid_template_columns": null,
      "grid_template_rows": null,
      "height": null,
      "justify_content": null,
      "justify_items": null,
      "left": null,
      "margin": null,
      "max_height": null,
      "max_width": null,
      "min_height": null,
      "min_width": null,
      "object_fit": null,
      "object_position": null,
      "order": null,
      "overflow": null,
      "overflow_x": null,
      "overflow_y": null,
      "padding": null,
      "right": null,
      "top": null,
      "visibility": null,
      "width": null
     }
    },
    "7431bff48874480b951c1162c73e25a1": {
     "model_module": "@jupyter-widgets/base",
     "model_module_version": "1.2.0",
     "model_name": "LayoutModel",
     "state": {
      "_model_module": "@jupyter-widgets/base",
      "_model_module_version": "1.2.0",
      "_model_name": "LayoutModel",
      "_view_count": null,
      "_view_module": "@jupyter-widgets/base",
      "_view_module_version": "1.2.0",
      "_view_name": "LayoutView",
      "align_content": null,
      "align_items": null,
      "align_self": null,
      "border": null,
      "bottom": null,
      "display": null,
      "flex": null,
      "flex_flow": null,
      "grid_area": null,
      "grid_auto_columns": null,
      "grid_auto_flow": null,
      "grid_auto_rows": null,
      "grid_column": null,
      "grid_gap": null,
      "grid_row": null,
      "grid_template_areas": null,
      "grid_template_columns": null,
      "grid_template_rows": null,
      "height": null,
      "justify_content": null,
      "justify_items": null,
      "left": null,
      "margin": null,
      "max_height": null,
      "max_width": null,
      "min_height": null,
      "min_width": null,
      "object_fit": null,
      "object_position": null,
      "order": null,
      "overflow": null,
      "overflow_x": null,
      "overflow_y": null,
      "padding": null,
      "right": null,
      "top": null,
      "visibility": null,
      "width": null
     }
    },
    "98cf70ef07ac4d1ebc6524bb4b9bc645": {
     "model_module": "@jupyter-widgets/base",
     "model_module_version": "1.2.0",
     "model_name": "LayoutModel",
     "state": {
      "_model_module": "@jupyter-widgets/base",
      "_model_module_version": "1.2.0",
      "_model_name": "LayoutModel",
      "_view_count": null,
      "_view_module": "@jupyter-widgets/base",
      "_view_module_version": "1.2.0",
      "_view_name": "LayoutView",
      "align_content": null,
      "align_items": null,
      "align_self": null,
      "border": null,
      "bottom": null,
      "display": null,
      "flex": null,
      "flex_flow": null,
      "grid_area": null,
      "grid_auto_columns": null,
      "grid_auto_flow": null,
      "grid_auto_rows": null,
      "grid_column": null,
      "grid_gap": null,
      "grid_row": null,
      "grid_template_areas": null,
      "grid_template_columns": null,
      "grid_template_rows": null,
      "height": null,
      "justify_content": null,
      "justify_items": null,
      "left": null,
      "margin": null,
      "max_height": null,
      "max_width": null,
      "min_height": null,
      "min_width": null,
      "object_fit": null,
      "object_position": null,
      "order": null,
      "overflow": null,
      "overflow_x": null,
      "overflow_y": null,
      "padding": null,
      "right": null,
      "top": null,
      "visibility": null,
      "width": null
     }
    },
    "ac4715cee21e440a925bf782f51ed55b": {
     "model_module": "@jupyter-widgets/controls",
     "model_module_version": "1.5.0",
     "model_name": "HTMLModel",
     "state": {
      "_dom_classes": [],
      "_model_module": "@jupyter-widgets/controls",
      "_model_module_version": "1.5.0",
      "_model_name": "HTMLModel",
      "_view_count": null,
      "_view_module": "@jupyter-widgets/controls",
      "_view_module_version": "1.5.0",
      "_view_name": "HTMLView",
      "description": "",
      "description_tooltip": null,
      "layout": "IPY_MODEL_58565789d0dd4dc5b0282133a04eee71",
      "placeholder": "​",
      "style": "IPY_MODEL_10bf12aa5ea64696b5f4bed55493d2b7",
      "value": "100%"
     }
    },
    "b26d95c4085349568b06dc2dac8b6069": {
     "model_module": "@jupyter-widgets/controls",
     "model_module_version": "1.5.0",
     "model_name": "ProgressStyleModel",
     "state": {
      "_model_module": "@jupyter-widgets/controls",
      "_model_module_version": "1.5.0",
      "_model_name": "ProgressStyleModel",
      "_view_count": null,
      "_view_module": "@jupyter-widgets/base",
      "_view_module_version": "1.2.0",
      "_view_name": "StyleView",
      "bar_color": null,
      "description_width": ""
     }
    },
    "be8c1187d9bd49cd8170227091a4947f": {
     "model_module": "@jupyter-widgets/controls",
     "model_module_version": "1.5.0",
     "model_name": "FloatProgressModel",
     "state": {
      "_dom_classes": [],
      "_model_module": "@jupyter-widgets/controls",
      "_model_module_version": "1.5.0",
      "_model_name": "FloatProgressModel",
      "_view_count": null,
      "_view_module": "@jupyter-widgets/controls",
      "_view_module_version": "1.5.0",
      "_view_name": "ProgressView",
      "bar_style": "success",
      "description": "",
      "description_tooltip": null,
      "layout": "IPY_MODEL_3b3ed41444ac4570a391628d154341f6",
      "max": 100,
      "min": 0,
      "orientation": "horizontal",
      "style": "IPY_MODEL_b26d95c4085349568b06dc2dac8b6069",
      "value": 100
     }
    },
    "d3b0180a4dc141d3be7715fe280c929a": {
     "model_module": "@jupyter-widgets/controls",
     "model_module_version": "1.5.0",
     "model_name": "HBoxModel",
     "state": {
      "_dom_classes": [],
      "_model_module": "@jupyter-widgets/controls",
      "_model_module_version": "1.5.0",
      "_model_name": "HBoxModel",
      "_view_count": null,
      "_view_module": "@jupyter-widgets/controls",
      "_view_module_version": "1.5.0",
      "_view_name": "HBoxView",
      "box_style": "",
      "children": [
       "IPY_MODEL_ac4715cee21e440a925bf782f51ed55b",
       "IPY_MODEL_be8c1187d9bd49cd8170227091a4947f",
       "IPY_MODEL_32e509b24a7a4872be0d6fba2415791e"
      ],
      "layout": "IPY_MODEL_7431bff48874480b951c1162c73e25a1"
     }
    }
   }
  }
 },
 "nbformat": 4,
 "nbformat_minor": 0
}
